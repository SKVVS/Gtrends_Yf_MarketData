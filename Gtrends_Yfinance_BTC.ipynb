{
 "cells": [
  {
   "cell_type": "code",
   "execution_count": 1,
   "metadata": {},
   "outputs": [
    {
     "name": "stderr",
     "output_type": "stream",
     "text": [
      "C:\\Users\\karasta\\AppData\\Local\\Continuum\\anaconda3\\lib\\site-packages\\statsmodels\\tools\\_testing.py:19: FutureWarning: pandas.util.testing is deprecated. Use the functions in the public API at pandas.testing instead.\n",
      "  import pandas.util.testing as tm\n"
     ]
    }
   ],
   "source": [
    "#Importing the necessary tools\n",
    "import pandas as pd\n",
    "from pytrends.request import TrendReq\n",
    "import matplotlib.pyplot as plt\n",
    "import seaborn as sns\n",
    "import yfinance as yf\n",
    "import numpy as np\n",
    "import datetime\n",
    "from matplotlib.dates import (YEARLY, DateFormatter, rrulewrapper, RRuleLocator, drange)"
   ]
  },
  {
   "cell_type": "code",
   "execution_count": 2,
   "metadata": {},
   "outputs": [],
   "source": [
    "#Setting up our variables\n",
    "start_date='2016-01-01'\n",
    "end_date='2020-11-26'\n",
    "google_trends_keyword='bitcoin'\n",
    "yahoo_finance_ticker='BTC-USD'"
   ]
  },
  {
   "cell_type": "code",
   "execution_count": 3,
   "metadata": {},
   "outputs": [],
   "source": [
    "#Getting the bitcoin google trends data using the pytrends library\n",
    "pytrends = TrendReq(hl='en-US', tz=360)\n",
    "kw_list = [google_trends_keyword]\n",
    "pytrends.build_payload(kw_list, cat=0, timeframe=(start_date+' ' +end_date), geo='US', gprop='')\n",
    "df_btc_trend = pytrends.interest_over_time()\n",
    "btc_interest_over_time=df_btc_trend['bitcoin']"
   ]
  },
  {
   "cell_type": "code",
   "execution_count": 4,
   "metadata": {},
   "outputs": [
    {
     "name": "stdout",
     "output_type": "stream",
     "text": [
      "[*********************100%***********************]  1 of 1 completed\n"
     ]
    }
   ],
   "source": [
    "#Gettin the bitcoin daily price data from yahoo finance using the yfinance library\n",
    "btc=yf.Ticker(yahoo_finance_ticker)\n",
    "\n",
    "df_btc_market_data = yf.download(yahoo_finance_ticker,start_date,end_date)\n",
    "#Getting the Adjusted Close price from the market data\n",
    "btc_Price_daily_AdjClose=df_btc_market_data['Adj Close']"
   ]
  },
  {
   "cell_type": "code",
   "execution_count": 5,
   "metadata": {},
   "outputs": [
    {
     "name": "stdout",
     "output_type": "stream",
     "text": [
      "Google Trends data\n",
      "Google Trends data length: 256\n"
     ]
    },
    {
     "data": {
      "text/html": [
       "<div>\n",
       "<style scoped>\n",
       "    .dataframe tbody tr th:only-of-type {\n",
       "        vertical-align: middle;\n",
       "    }\n",
       "\n",
       "    .dataframe tbody tr th {\n",
       "        vertical-align: top;\n",
       "    }\n",
       "\n",
       "    .dataframe thead th {\n",
       "        text-align: right;\n",
       "    }\n",
       "</style>\n",
       "<table border=\"1\" class=\"dataframe\">\n",
       "  <thead>\n",
       "    <tr style=\"text-align: right;\">\n",
       "      <th></th>\n",
       "      <th>bitcoin</th>\n",
       "      <th>isPartial</th>\n",
       "    </tr>\n",
       "    <tr>\n",
       "      <th>date</th>\n",
       "      <th></th>\n",
       "      <th></th>\n",
       "    </tr>\n",
       "  </thead>\n",
       "  <tbody>\n",
       "    <tr>\n",
       "      <th>2016-01-03</th>\n",
       "      <td>2</td>\n",
       "      <td>False</td>\n",
       "    </tr>\n",
       "    <tr>\n",
       "      <th>2016-01-10</th>\n",
       "      <td>2</td>\n",
       "      <td>False</td>\n",
       "    </tr>\n",
       "    <tr>\n",
       "      <th>2016-01-17</th>\n",
       "      <td>2</td>\n",
       "      <td>False</td>\n",
       "    </tr>\n",
       "    <tr>\n",
       "      <th>2016-01-24</th>\n",
       "      <td>2</td>\n",
       "      <td>False</td>\n",
       "    </tr>\n",
       "    <tr>\n",
       "      <th>2016-01-31</th>\n",
       "      <td>2</td>\n",
       "      <td>False</td>\n",
       "    </tr>\n",
       "  </tbody>\n",
       "</table>\n",
       "</div>"
      ],
      "text/plain": [
       "            bitcoin isPartial\n",
       "date                         \n",
       "2016-01-03        2     False\n",
       "2016-01-10        2     False\n",
       "2016-01-17        2     False\n",
       "2016-01-24        2     False\n",
       "2016-01-31        2     False"
      ]
     },
     "execution_count": 5,
     "metadata": {},
     "output_type": "execute_result"
    }
   ],
   "source": [
    "#See how our data frames look like\n",
    "print('Google Trends data')\n",
    "print('Google Trends data length:',len(df_btc_trend))\n",
    "df_btc_trend.head(5)\n"
   ]
  },
  {
   "cell_type": "code",
   "execution_count": 6,
   "metadata": {},
   "outputs": [
    {
     "name": "stdout",
     "output_type": "stream",
     "text": [
      "Yahoo Finance data\n",
      "Yahoo Finance data length: 1792\n"
     ]
    },
    {
     "data": {
      "text/html": [
       "<div>\n",
       "<style scoped>\n",
       "    .dataframe tbody tr th:only-of-type {\n",
       "        vertical-align: middle;\n",
       "    }\n",
       "\n",
       "    .dataframe tbody tr th {\n",
       "        vertical-align: top;\n",
       "    }\n",
       "\n",
       "    .dataframe thead th {\n",
       "        text-align: right;\n",
       "    }\n",
       "</style>\n",
       "<table border=\"1\" class=\"dataframe\">\n",
       "  <thead>\n",
       "    <tr style=\"text-align: right;\">\n",
       "      <th></th>\n",
       "      <th>Open</th>\n",
       "      <th>High</th>\n",
       "      <th>Low</th>\n",
       "      <th>Close</th>\n",
       "      <th>Adj Close</th>\n",
       "      <th>Volume</th>\n",
       "    </tr>\n",
       "    <tr>\n",
       "      <th>Date</th>\n",
       "      <th></th>\n",
       "      <th></th>\n",
       "      <th></th>\n",
       "      <th></th>\n",
       "      <th></th>\n",
       "      <th></th>\n",
       "    </tr>\n",
       "  </thead>\n",
       "  <tbody>\n",
       "    <tr>\n",
       "      <th>2015-12-31</th>\n",
       "      <td>425.875000</td>\n",
       "      <td>432.920990</td>\n",
       "      <td>418.734985</td>\n",
       "      <td>430.566986</td>\n",
       "      <td>430.566986</td>\n",
       "      <td>45996600</td>\n",
       "    </tr>\n",
       "    <tr>\n",
       "      <th>2016-01-01</th>\n",
       "      <td>430.721008</td>\n",
       "      <td>436.246002</td>\n",
       "      <td>427.515015</td>\n",
       "      <td>434.334015</td>\n",
       "      <td>434.334015</td>\n",
       "      <td>36278900</td>\n",
       "    </tr>\n",
       "    <tr>\n",
       "      <th>2016-01-02</th>\n",
       "      <td>434.622009</td>\n",
       "      <td>436.062012</td>\n",
       "      <td>431.869995</td>\n",
       "      <td>433.437988</td>\n",
       "      <td>433.437988</td>\n",
       "      <td>30096600</td>\n",
       "    </tr>\n",
       "    <tr>\n",
       "      <th>2016-01-03</th>\n",
       "      <td>433.578003</td>\n",
       "      <td>433.743011</td>\n",
       "      <td>424.705994</td>\n",
       "      <td>430.010986</td>\n",
       "      <td>430.010986</td>\n",
       "      <td>39633800</td>\n",
       "    </tr>\n",
       "    <tr>\n",
       "      <th>2016-01-04</th>\n",
       "      <td>430.061005</td>\n",
       "      <td>434.516998</td>\n",
       "      <td>429.084015</td>\n",
       "      <td>433.091003</td>\n",
       "      <td>433.091003</td>\n",
       "      <td>38477500</td>\n",
       "    </tr>\n",
       "  </tbody>\n",
       "</table>\n",
       "</div>"
      ],
      "text/plain": [
       "                  Open        High         Low       Close   Adj Close  \\\n",
       "Date                                                                     \n",
       "2015-12-31  425.875000  432.920990  418.734985  430.566986  430.566986   \n",
       "2016-01-01  430.721008  436.246002  427.515015  434.334015  434.334015   \n",
       "2016-01-02  434.622009  436.062012  431.869995  433.437988  433.437988   \n",
       "2016-01-03  433.578003  433.743011  424.705994  430.010986  430.010986   \n",
       "2016-01-04  430.061005  434.516998  429.084015  433.091003  433.091003   \n",
       "\n",
       "              Volume  \n",
       "Date                  \n",
       "2015-12-31  45996600  \n",
       "2016-01-01  36278900  \n",
       "2016-01-02  30096600  \n",
       "2016-01-03  39633800  \n",
       "2016-01-04  38477500  "
      ]
     },
     "execution_count": 6,
     "metadata": {},
     "output_type": "execute_result"
    }
   ],
   "source": [
    "print('Yahoo Finance data')\n",
    "print('Yahoo Finance data length:',len(df_btc_market_data))\n",
    "df_btc_market_data.head(5)"
   ]
  },
  {
   "cell_type": "code",
   "execution_count": 9,
   "metadata": {},
   "outputs": [],
   "source": [
    "#Plotting the data\n",
    "%matplotlib qt\n",
    "fig, ax1 = plt.subplots()\n",
    "color = 'tab:red'\n",
    "ax1.set_xlabel('Date')\n",
    "ax1.set_ylabel('Bitcoin Adjusted Close Price', color=color)\n",
    "ax1.plot(btc_Price_daily_AdjClose.index,btc_Price_daily_AdjClose, color=color)\n",
    "ax1.tick_params(axis='y', labelcolor=color)\n",
    "plt.grid(True)\n",
    "ax2 = ax1.twinx() \n",
    "color = 'tab:blue'\n",
    "ax2.set_ylabel('Bitcoin Interest Over Time', color=color)  \n",
    "ax2.plot(btc_interest_over_time.index,btc_interest_over_time, color=color,marker='x',linestyle='--',markersize=2)\n",
    "ax2.tick_params(axis='y', labelcolor=color)\n",
    "fig.tight_layout()\n",
    "plt.show()"
   ]
  },
  {
   "cell_type": "code",
   "execution_count": null,
   "metadata": {},
   "outputs": [],
   "source": []
  }
 ],
 "metadata": {
  "kernelspec": {
   "display_name": "Python 3",
   "language": "python",
   "name": "python3"
  },
  "language_info": {
   "codemirror_mode": {
    "name": "ipython",
    "version": 3
   },
   "file_extension": ".py",
   "mimetype": "text/x-python",
   "name": "python",
   "nbconvert_exporter": "python",
   "pygments_lexer": "ipython3",
   "version": "3.7.3"
  }
 },
 "nbformat": 4,
 "nbformat_minor": 2
}
