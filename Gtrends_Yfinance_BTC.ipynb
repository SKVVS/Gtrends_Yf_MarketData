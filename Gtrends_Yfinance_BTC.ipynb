{
 "cells": [
  {
   "cell_type": "code",
   "execution_count": null,
   "metadata": {},
   "outputs": [],
   "source": [
    "#Importing the necessary tools\n",
    "import pandas as pd\n",
    "from pytrends.request import TrendReq\n",
    "import matplotlib.pyplot as plt\n",
    "import seaborn as sns\n",
    "import yfinance as yf\n",
    "import numpy as np\n",
    "import datetime\n",
    "from matplotlib.dates import (YEARLY, DateFormatter, rrulewrapper, RRuleLocator, drange)"
   ]
  },
  {
   "cell_type": "code",
   "execution_count": null,
   "metadata": {},
   "outputs": [],
   "source": [
    "#Setting up our variables\n",
    "start_date='2016-01-01'\n",
    "end_date='2020-11-26'\n",
    "google_trends_keyword='bitcoin'\n",
    "yahoo_finance_ticker='BTC-USD'"
   ]
  },
  {
   "cell_type": "code",
   "execution_count": null,
   "metadata": {},
   "outputs": [],
   "source": [
    "#Getting the bitcoin google trends data using the pytrends library\n",
    "pytrends = TrendReq(hl='en-US', tz=360)\n",
    "kw_list = [google_trends_keyword]\n",
    "pytrends.build_payload(kw_list, cat=0, timeframe=(start_date+' ' +end_date), geo='US', gprop='')\n",
    "df_btc_trend = pytrends.interest_over_time()\n",
    "btc_interest_over_time=df_btc_trend['bitcoin']"
   ]
  },
  {
   "cell_type": "code",
   "execution_count": null,
   "metadata": {},
   "outputs": [],
   "source": [
    "#Gettin the bitcoin daily price data from yahoo finance using the yfinance library\n",
    "btc=yf.Ticker(yahoo_finance_ticker)\n",
    "\n",
    "df_btc_market_data = yf.download(yahoo_finance_ticker,start_date,end_date)\n",
    "#Getting the Adjusted Close price from the market data\n",
    "btc_Price_daily_AdjClose=df_btc_market_data['Adj Close']"
   ]
  },
  {
   "cell_type": "code",
   "execution_count": null,
   "metadata": {},
   "outputs": [],
   "source": [
    "#See how our data frames look like\n",
    "print('Google Trends data')\n",
    "print('Google Trends data length:',len(df_btc_trend))\n",
    "df_btc_trend.head(5)\n"
   ]
  },
  {
   "cell_type": "code",
   "execution_count": null,
   "metadata": {},
   "outputs": [],
   "source": [
    "print('Yahoo Finance data')\n",
    "print('Yahoo Finance data length:',len(df_btc_market_data))\n",
    "df_btc_market_data.head(5)"
   ]
  },
  {
   "cell_type": "code",
   "execution_count": null,
   "metadata": {},
   "outputs": [],
   "source": [
    "#Plotting the data\n",
    "%matplotlib qt\n",
    "fig, ax1 = plt.subplots()\n",
    "color = 'tab:red'\n",
    "ax1.set_xlabel('Date')\n",
    "ax1.set_ylabel('Bitcoin Adjusted Close Price', color=color)\n",
    "ax1.plot(btc_Price_daily_AdjClose.index,btc_Price_daily_AdjClose, color=color)\n",
    "ax1.tick_params(axis='y', labelcolor=color)\n",
    "plt.grid(True)\n",
    "ax2 = ax1.twinx() \n",
    "color = 'tab:blue'\n",
    "ax2.set_ylabel('Bitcoin Interest Over Time', color=color)  \n",
    "ax2.plot(btc_interest_over_time.index,btc_interest_over_time, color=color,marker='x',linestyle='--',markersize=2)\n",
    "ax2.tick_params(axis='y', labelcolor=color)\n",
    "fig.tight_layout()\n",
    "plt.show()"
   ]
  },
  {
   "cell_type": "code",
   "execution_count": null,
   "metadata": {},
   "outputs": [],
   "source": []
  }
 ],
 "metadata": {
  "kernelspec": {
   "display_name": "Python 3",
   "language": "python",
   "name": "python3"
  },
  "language_info": {
   "codemirror_mode": {
    "name": "ipython",
    "version": 3
   },
   "file_extension": ".py",
   "mimetype": "text/x-python",
   "name": "python",
   "nbconvert_exporter": "python",
   "pygments_lexer": "ipython3",
   "version": "3.7.3"
  }
 },
 "nbformat": 4,
 "nbformat_minor": 2
}
